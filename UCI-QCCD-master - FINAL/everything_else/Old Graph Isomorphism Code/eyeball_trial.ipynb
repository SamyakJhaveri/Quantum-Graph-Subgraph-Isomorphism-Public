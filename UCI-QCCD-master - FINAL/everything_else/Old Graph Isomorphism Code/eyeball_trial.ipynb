{
 "cells": [
  {
   "cell_type": "markdown",
   "metadata": {},
   "source": [
    "### Import stuff"
   ]
  },
  {
   "cell_type": "code",
   "execution_count": 1,
   "metadata": {},
   "outputs": [],
   "source": [
    "import ast\n",
    "import sys\n",
    "import astor\n",
    "from graphviz import Digraph\n",
    "import showast\n",
    "import astpretty"
   ]
  },
  {
   "cell_type": "markdown",
   "metadata": {},
   "source": [
    "#### Type Code Clones"
   ]
  },
  {
   "cell_type": "code",
   "execution_count": 2,
   "metadata": {},
   "outputs": [],
   "source": [
    "code_sample_a_path = \"test clone types/test_type_1_clones/test_type_1_a.py\"\n",
    "code_sample_b_path = \"test clone types/test_type_1_clones/test_type_1_b.py\""
   ]
  },
  {
   "cell_type": "code",
   "execution_count": 3,
   "metadata": {},
   "outputs": [],
   "source": [
    "code_a = ast.parse(open(code_sample_a_path).read())"
   ]
  },
  {
   "cell_type": "code",
   "execution_count": 4,
   "metadata": {},
   "outputs": [
    {
     "name": "stdout",
     "output_type": "stream",
     "text": [
      "ast.dump(code_a, indent = 4)\n",
      "Module(\n",
      "    body=[\n",
      "        Assign(\n",
      "            targets=[\n",
      "                Name(id='a', ctx=Store())],\n",
      "            value=Constant(value=1)),\n",
      "        Assign(\n",
      "            targets=[\n",
      "                Name(id='b', ctx=Store())],\n",
      "            value=Constant(value=2)),\n",
      "        Assign(\n",
      "            targets=[\n",
      "                Name(id='c', ctx=Store())],\n",
      "            value=Constant(value=3)),\n",
      "        Assign(\n",
      "            targets=[\n",
      "                Name(id='d', ctx=Store())],\n",
      "            value=Constant(value=4)),\n",
      "        If(\n",
      "            test=Compare(\n",
      "                left=Name(id='a', ctx=Load()),\n",
      "                ops=[\n",
      "                    GtE()],\n",
      "                comparators=[\n",
      "                    Name(id='b', ctx=Load())]),\n",
      "            body=[\n",
      "                Assign(\n",
      "                    targets=[\n",
      "                        Name(id='c', ctx=Store())],\n",
      "                    value=BinOp(\n",
      "                        left=Name(id='d', ctx=Load()),\n",
      "                        op=Add(),\n",
      "                        right=Name(id='b', ctx=Load()))),\n",
      "                Assign(\n",
      "                    targets=[\n",
      "                        Name(id='d', ctx=Store())],\n",
      "                    value=BinOp(\n",
      "                        left=Name(id='d', ctx=Load()),\n",
      "                        op=Add(),\n",
      "                        right=Constant(value=1)))],\n",
      "            orelse=[\n",
      "                Assign(\n",
      "                    targets=[\n",
      "                        Name(id='c', ctx=Store())],\n",
      "                    value=BinOp(\n",
      "                        left=Name(id='d', ctx=Load()),\n",
      "                        op=Sub(),\n",
      "                        right=Name(id='a', ctx=Load())))])],\n",
      "    type_ignores=[])\n"
     ]
    }
   ],
   "source": [
    "print(\"ast.dump(code_a, indent = 4)\")\n",
    "print(ast.dump(code_a, indent = 4))"
   ]
  },
  {
   "cell_type": "code",
   "execution_count": 5,
   "metadata": {},
   "outputs": [
    {
     "name": "stdout",
     "output_type": "stream",
     "text": [
      "astor.dump_tree(code_a)\n",
      "Module(\n",
      "    body=[\n",
      "        Assign(targets=[Name(id='a')], value=Constant(value=1, kind=None), type_comment=None),\n",
      "        Assign(targets=[Name(id='b')], value=Constant(value=2, kind=None), type_comment=None),\n",
      "        Assign(targets=[Name(id='c')], value=Constant(value=3, kind=None), type_comment=None),\n",
      "        Assign(targets=[Name(id='d')], value=Constant(value=4, kind=None), type_comment=None),\n",
      "        If(test=Compare(left=Name(id='a'), ops=[GtE], comparators=[Name(id='b')]),\n",
      "            body=[\n",
      "                Assign(targets=[Name(id='c')],\n",
      "                    value=BinOp(left=Name(id='d'), op=Add, right=Name(id='b')),\n",
      "                    type_comment=None),\n",
      "                Assign(targets=[Name(id='d')],\n",
      "                    value=BinOp(left=Name(id='d'), op=Add, right=Constant(value=1, kind=None)),\n",
      "                    type_comment=None)],\n",
      "            orelse=[\n",
      "                Assign(targets=[Name(id='c')],\n",
      "                    value=BinOp(left=Name(id='d'), op=Sub, right=Name(id='a')),\n",
      "                    type_comment=None)])],\n",
      "    type_ignores=[])\n"
     ]
    }
   ],
   "source": [
    "print(\"astor.dump_tree(code_a)\")\n",
    "print(astor.dump_tree(code_a))"
   ]
  },
  {
   "cell_type": "code",
   "execution_count": 6,
   "metadata": {},
   "outputs": [
    {
     "name": "stdout",
     "output_type": "stream",
     "text": [
      "astpretty.pprint(code_a)\n",
      "Module(\n",
      "    body=[\n",
      "        Assign(\n",
      "            lineno=1,\n",
      "            col_offset=0,\n",
      "            end_lineno=1,\n",
      "            end_col_offset=3,\n",
      "            targets=[Name(lineno=1, col_offset=0, end_lineno=1, end_col_offset=1, id='a', ctx=Store())],\n",
      "            value=Constant(lineno=1, col_offset=2, end_lineno=1, end_col_offset=3, value=1, kind=None),\n",
      "            type_comment=None,\n",
      "        ),\n",
      "        Assign(\n",
      "            lineno=2,\n",
      "            col_offset=0,\n",
      "            end_lineno=2,\n",
      "            end_col_offset=3,\n",
      "            targets=[Name(lineno=2, col_offset=0, end_lineno=2, end_col_offset=1, id='b', ctx=Store())],\n",
      "            value=Constant(lineno=2, col_offset=2, end_lineno=2, end_col_offset=3, value=2, kind=None),\n",
      "            type_comment=None,\n",
      "        ),\n",
      "        Assign(\n",
      "            lineno=3,\n",
      "            col_offset=0,\n",
      "            end_lineno=3,\n",
      "            end_col_offset=3,\n",
      "            targets=[Name(lineno=3, col_offset=0, end_lineno=3, end_col_offset=1, id='c', ctx=Store())],\n",
      "            value=Constant(lineno=3, col_offset=2, end_lineno=3, end_col_offset=3, value=3, kind=None),\n",
      "            type_comment=None,\n",
      "        ),\n",
      "        Assign(\n",
      "            lineno=4,\n",
      "            col_offset=0,\n",
      "            end_lineno=4,\n",
      "            end_col_offset=3,\n",
      "            targets=[Name(lineno=4, col_offset=0, end_lineno=4, end_col_offset=1, id='d', ctx=Store())],\n",
      "            value=Constant(lineno=4, col_offset=2, end_lineno=4, end_col_offset=3, value=4, kind=None),\n",
      "            type_comment=None,\n",
      "        ),\n",
      "        If(\n",
      "            lineno=5,\n",
      "            col_offset=0,\n",
      "            end_lineno=9,\n",
      "            end_col_offset=9,\n",
      "            test=Compare(\n",
      "                lineno=5,\n",
      "                col_offset=4,\n",
      "                end_lineno=5,\n",
      "                end_col_offset=8,\n",
      "                left=Name(lineno=5, col_offset=4, end_lineno=5, end_col_offset=5, id='a', ctx=Load()),\n",
      "                ops=[GtE()],\n",
      "                comparators=[Name(lineno=5, col_offset=7, end_lineno=5, end_col_offset=8, id='b', ctx=Load())],\n",
      "            ),\n",
      "            body=[\n",
      "                Assign(\n",
      "                    lineno=6,\n",
      "                    col_offset=4,\n",
      "                    end_lineno=6,\n",
      "                    end_col_offset=9,\n",
      "                    targets=[Name(lineno=6, col_offset=4, end_lineno=6, end_col_offset=5, id='c', ctx=Store())],\n",
      "                    value=BinOp(\n",
      "                        lineno=6,\n",
      "                        col_offset=6,\n",
      "                        end_lineno=6,\n",
      "                        end_col_offset=9,\n",
      "                        left=Name(lineno=6, col_offset=6, end_lineno=6, end_col_offset=7, id='d', ctx=Load()),\n",
      "                        op=Add(),\n",
      "                        right=Name(lineno=6, col_offset=8, end_lineno=6, end_col_offset=9, id='b', ctx=Load()),\n",
      "                    ),\n",
      "                    type_comment=None,\n",
      "                ),\n",
      "                Assign(\n",
      "                    lineno=7,\n",
      "                    col_offset=4,\n",
      "                    end_lineno=7,\n",
      "                    end_col_offset=9,\n",
      "                    targets=[Name(lineno=7, col_offset=4, end_lineno=7, end_col_offset=5, id='d', ctx=Store())],\n",
      "                    value=BinOp(\n",
      "                        lineno=7,\n",
      "                        col_offset=6,\n",
      "                        end_lineno=7,\n",
      "                        end_col_offset=9,\n",
      "                        left=Name(lineno=7, col_offset=6, end_lineno=7, end_col_offset=7, id='d', ctx=Load()),\n",
      "                        op=Add(),\n",
      "                        right=Constant(lineno=7, col_offset=8, end_lineno=7, end_col_offset=9, value=1, kind=None),\n",
      "                    ),\n",
      "                    type_comment=None,\n",
      "                ),\n",
      "            ],\n",
      "            orelse=[\n",
      "                Assign(\n",
      "                    lineno=9,\n",
      "                    col_offset=4,\n",
      "                    end_lineno=9,\n",
      "                    end_col_offset=9,\n",
      "                    targets=[Name(lineno=9, col_offset=4, end_lineno=9, end_col_offset=5, id='c', ctx=Store())],\n",
      "                    value=BinOp(\n",
      "                        lineno=9,\n",
      "                        col_offset=6,\n",
      "                        end_lineno=9,\n",
      "                        end_col_offset=9,\n",
      "                        left=Name(lineno=9, col_offset=6, end_lineno=9, end_col_offset=7, id='d', ctx=Load()),\n",
      "                        op=Sub(),\n",
      "                        right=Name(lineno=9, col_offset=8, end_lineno=9, end_col_offset=9, id='a', ctx=Load()),\n",
      "                    ),\n",
      "                    type_comment=None,\n",
      "                ),\n",
      "            ],\n",
      "        ),\n",
      "    ],\n",
      "    type_ignores=[],\n",
      ")\n"
     ]
    }
   ],
   "source": [
    "print(\"astpretty.pprint(code_a)\")\n",
    "astpretty.pprint(code_a)"
   ]
  },
  {
   "cell_type": "code",
   "execution_count": 7,
   "metadata": {},
   "outputs": [],
   "source": [
    "code_b = ast.parse(open(code_sample_b_path).read())"
   ]
  },
  {
   "cell_type": "code",
   "execution_count": 8,
   "metadata": {},
   "outputs": [
    {
     "name": "stdout",
     "output_type": "stream",
     "text": [
      "astor.dump_tree(code_b)\n",
      "Module(\n",
      "    body=[\n",
      "        Assign(targets=[Name(id='a')], value=Constant(value=1, kind=None), type_comment=None),\n",
      "        Assign(targets=[Name(id='b')], value=Constant(value=2, kind=None), type_comment=None),\n",
      "        Assign(targets=[Name(id='c')], value=Constant(value=3, kind=None), type_comment=None),\n",
      "        Assign(targets=[Name(id='d')], value=Constant(value=4, kind=None), type_comment=None),\n",
      "        If(test=Compare(left=Name(id='a'), ops=[GtE], comparators=[Name(id='b')]),\n",
      "            body=[\n",
      "                Assign(targets=[Name(id='c')],\n",
      "                    value=BinOp(left=Name(id='d'), op=Add, right=Name(id='b')),\n",
      "                    type_comment=None),\n",
      "                Assign(targets=[Name(id='d')],\n",
      "                    value=BinOp(left=Name(id='d'), op=Add, right=Constant(value=1, kind=None)),\n",
      "                    type_comment=None)],\n",
      "            orelse=[\n",
      "                Assign(targets=[Name(id='c')],\n",
      "                    value=BinOp(left=Name(id='d'), op=Sub, right=Name(id='a')),\n",
      "                    type_comment=None)])],\n",
      "    type_ignores=[])\n"
     ]
    }
   ],
   "source": [
    "print(\"astor.dump_tree(code_b)\")\n",
    "print(astor.dump_tree(code_b))"
   ]
  },
  {
   "cell_type": "code",
   "execution_count": 10,
   "metadata": {},
   "outputs": [],
   "source": [
    "root = code_a\n",
    "for node in ast.walk(root):\n",
    "    for child in ast.iter_child_nodes(node):\n",
    "        child.parent = node"
   ]
  },
  {
   "cell_type": "code",
   "execution_count": 11,
   "metadata": {},
   "outputs": [
    {
     "data": {
      "text/plain": [
       "ast.Load"
      ]
     },
     "execution_count": 11,
     "metadata": {},
     "output_type": "execute_result"
    }
   ],
   "source": [
    "type(node)"
   ]
  },
  {
   "cell_type": "code",
   "execution_count": 12,
   "metadata": {},
   "outputs": [
    {
     "name": "stdout",
     "output_type": "stream",
     "text": [
      "<ast.Load object at 0x1056d8910>\n"
     ]
    }
   ],
   "source": [
    "print(node)"
   ]
  },
  {
   "cell_type": "code",
   "execution_count": 13,
   "metadata": {},
   "outputs": [
    {
     "name": "stdout",
     "output_type": "stream",
     "text": [
      "Module(\n",
      "    body=[\n",
      "        Assign(\n",
      "            targets=[\n",
      "                Name(id='a', ctx=Store())],\n",
      "            value=Constant(value=1)),\n",
      "        Assign(\n",
      "            targets=[\n",
      "                Name(id='b', ctx=Store())],\n",
      "            value=Constant(value=2)),\n",
      "        Assign(\n",
      "            targets=[\n",
      "                Name(id='c', ctx=Store())],\n",
      "            value=Constant(value=3)),\n",
      "        Assign(\n",
      "            targets=[\n",
      "                Name(id='d', ctx=Store())],\n",
      "            value=Constant(value=4)),\n",
      "        If(\n",
      "            test=Compare(\n",
      "                left=Name(id='a', ctx=Load()),\n",
      "                ops=[\n",
      "                    GtE()],\n",
      "                comparators=[\n",
      "                    Name(id='b', ctx=Load())]),\n",
      "            body=[\n",
      "                Assign(\n",
      "                    targets=[\n",
      "                        Name(id='c', ctx=Store())],\n",
      "                    value=BinOp(\n",
      "                        left=Name(id='d', ctx=Load()),\n",
      "                        op=Add(),\n",
      "                        right=Name(id='b', ctx=Load()))),\n",
      "                Assign(\n",
      "                    targets=[\n",
      "                        Name(id='d', ctx=Store())],\n",
      "                    value=BinOp(\n",
      "                        left=Name(id='d', ctx=Load()),\n",
      "                        op=Add(),\n",
      "                        right=Constant(value=1)))],\n",
      "            orelse=[\n",
      "                Assign(\n",
      "                    targets=[\n",
      "                        Name(id='c', ctx=Store())],\n",
      "                    value=BinOp(\n",
      "                        left=Name(id='d', ctx=Load()),\n",
      "                        op=Sub(),\n",
      "                        right=Name(id='a', ctx=Load())))])],\n",
      "    type_ignores=[])\n"
     ]
    }
   ],
   "source": [
    "print(ast.dump(code_a, indent = 4))"
   ]
  },
  {
   "cell_type": "code",
   "execution_count": null,
   "metadata": {},
   "outputs": [],
   "source": []
  }
 ],
 "metadata": {
  "interpreter": {
   "hash": "b0fa6594d8f4cbf19f97940f81e996739fb7646882a419484c72d19e05852a7e"
  },
  "kernelspec": {
   "display_name": "Python 3.9.10 64-bit",
   "language": "python",
   "name": "python3"
  },
  "language_info": {
   "codemirror_mode": {
    "name": "ipython",
    "version": 3
   },
   "file_extension": ".py",
   "mimetype": "text/x-python",
   "name": "python",
   "nbconvert_exporter": "python",
   "pygments_lexer": "ipython3",
   "version": "3.10.8"
  },
  "orig_nbformat": 4
 },
 "nbformat": 4,
 "nbformat_minor": 2
}
