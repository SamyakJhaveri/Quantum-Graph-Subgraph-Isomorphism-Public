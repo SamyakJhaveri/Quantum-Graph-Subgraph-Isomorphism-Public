{
 "cells": [
  {
   "cell_type": "markdown",
   "metadata": {},
   "source": [
    "https://stackoverflow.com/questions/54439731/networkx-read-dot-does-not-inherit-attributes"
   ]
  },
  {
   "cell_type": "code",
   "execution_count": 38,
   "metadata": {},
   "outputs": [],
   "source": [
    "\"\"\" General in-built Python Libraries \"\"\"\n",
    "import sys # The sys module in Python provides various functions and variables \n",
    "# that are used to manipulate different parts of the Python runtime environment. \n",
    "# It allows operating on the interpreter as it provides access to the variables \n",
    "# and functions that interact strongly with the interpreter.\n",
    "import random\n",
    "import json\n",
    "from collections import defaultdict # Python’s collections module provides a rich \n",
    "# set of specialized container data types carefully designed to approach specific \n",
    "# programming problems in a Pythonic and efficient way. The module also provides \n",
    "# wrapper classes that make it safer to create custom classes that behave similar \n",
    "# to the built-in types dict, list, and str.\n",
    "import tokenize # The tokenize module provides a lexical scanner for Python \n",
    "# source code, implemented in Python. The scanner in this module returns comments\n",
    "# as tokens as well, making it useful for implementing “pretty-printers”, \n",
    "# including colorizers for on-screen displays.\n",
    "import numbers\n",
    "import re\n",
    "import uuid # This module provides immutable UUID objects (the UUID class) and \n",
    "# the functions uuid1(), uuid3(), uuid4(), uuid5() for generating version \n",
    "# 1, 3, 4, and 5 UUIDs as specified in RFC 4122.\n",
    "from uuid import uuid4 as uuid\n",
    "import subprocess # is a module used to run new codes and applications by \n",
    "# creating new processes. It lets you start new applications right from the \n",
    "# Python program you are currently writing.The subprocess module allows you to\n",
    "#  spawn new processes, connect to their input/output/error pipes, and obtain \n",
    "# their return codes. \n",
    "import optparse # Optparse module makes easy to write command-line tools. \n",
    "# It allows argument parsing in the python program. It allows dynamic data \n",
    "# input to change the output\n",
    "#import sh # sh is a full-fledged subprocess replacement that allows you to \n",
    "# call any program as if it were a function:\n",
    "import inspect # inspect is useful in inspecting certain moduules and get a \n",
    "# detailed analysis of certain function calls or tracebacks so that debugging \n",
    "# can be easier.\n",
    "import importlib\n",
    "\n",
    "\"\"\" Python Libraries for generating, visiting and manipulating ASTs \"\"\"\n",
    "import ast # Python's In-Built AST Library\n",
    "from astmonkey import visitors, transformers # astmonkey is a set of tools to \n",
    "# play with Python AST.\n",
    "from astmonkey.visitors import GraphNodeVisitor\n",
    "import astor # astor is designed to allow easy manipulation of Python source \n",
    "# via the AST\n",
    "from _ast import AST\n",
    "import astunparse # An AST unparser for Python.\n",
    "\n",
    "\n",
    "\"\"\" Python libraries to visualize and display ASTs \"\"\"\n",
    "import astpretty # Pretty print the output of python stdlib ast.parse. \n",
    "# astpretty is intended to be a replacement for ast.dump.\n",
    "import showast # # showast An IPython/Jupyter notebook plugin for \n",
    "# visualizing abstract syntax trees.\n",
    "import graphviz as gv\n",
    "from graphviz import Digraph, Graph # This package facilitates the creation and rendering of graph \n",
    "# descriptions in the DOT language of the Graphviz graph drawing software (upstream repo) \n",
    "# from Python. Create a graph object, assemble the graph by adding nodes and edges, and \n",
    "# retrieve its DOT source code string. Save the source code to a file and render it with the \n",
    "# Graphviz installation of your system.\n",
    "from pprint import pprint # The pprint module provides a capability to “pretty-print” \n",
    "# arbitrary Python data structures in a form which can be used as input to the interpreter\n",
    "import pydot # is an interface to Graphviz, it can parse and dump into the DOT language used by GraphViz\n",
    "#import pydot_ng as pydot\n",
    "from IPython.display import Image, display\n",
    "import pprint\n",
    "import matplotlib.pyplot as plt\n",
    "import networkx as nx\n",
    "from networkx.drawing.nx_agraph import write_dot, graphviz_layout\n",
    "import pydotplus\n",
    "import ast\n",
    "import networkx as nx  \n",
    "import sys\n",
    "from graphviz import Digraph\n",
    "import showast\n",
    "import astpretty\n",
    "import gsgmorph.pyqubo_form as gsgm_pqf\n",
    "import pprint\n",
    "import matplotlib.pyplot as plt  \n"
   ]
  },
  {
   "cell_type": "code",
   "execution_count": 39,
   "metadata": {},
   "outputs": [],
   "source": [
    "graph_1_file_url = 'test clone types/test_type_3_clones/test_type_3_a.py'\n",
    "with open(graph_1_file_url, 'r') as fin1:\n",
    "    src1 = fin1.read()\n",
    "fin1.close()"
   ]
  },
  {
   "cell_type": "code",
   "execution_count": 40,
   "metadata": {},
   "outputs": [],
   "source": [
    "node1 = ast.parse(src1)\n"
   ]
  },
  {
   "cell_type": "code",
   "execution_count": 41,
   "metadata": {},
   "outputs": [],
   "source": [
    "# Using GraphViz\n",
    "def visit(node, nodes, pindex, g):\n",
    "    \"\"\" Function to visit the nodes of the AST \"\"\"\n",
    "\n",
    "    #print(f\"pindex: {pindex}\")\n",
    "    \n",
    "    name = str(type(node).__name__)\n",
    "    #print(f\"name:{name}\")\n",
    "    \n",
    "    index = len(nodes)\n",
    "    #print(f\"index: {index}\")\n",
    "\n",
    "    nodes.append(index)\n",
    "    #print(f\"nodes: {nodes}\")\n",
    "\n",
    "    g.node(str(index), name)\n",
    "    #print(f\"g: {g}\")\n",
    "\n",
    "    if index != pindex: # check to see if there is  \n",
    "        g.edge(str(index), str(pindex))\n",
    "    \n",
    "    for n in ast.iter_child_nodes(node):\n",
    "        visit(n, nodes, index, g) # recursively traverse the AST to go over the nodes and register them into the graph\n",
    "    \n"
   ]
  },
  {
   "cell_type": "code",
   "execution_count": 42,
   "metadata": {},
   "outputs": [
    {
     "data": {
      "text/plain": [
       "'node1_ast_gv_visualized.png'"
      ]
     },
     "execution_count": 42,
     "metadata": {},
     "output_type": "execute_result"
    }
   ],
   "source": [
    "gv_graph1 = Digraph(format = \"png\") # declaring GraphViz Graph\n",
    "visit(node1, [], 0, gv_graph1)\n",
    "gv_graph1.render(\"node1_ast_gv_visualized\") # renders the graph obtained"
   ]
  },
  {
   "cell_type": "code",
   "execution_count": 43,
   "metadata": {},
   "outputs": [],
   "source": [
    "dotplus1 = pydotplus.graph_from_dot_data(gv_graph1.source)"
   ]
  },
  {
   "cell_type": "code",
   "execution_count": 44,
   "metadata": {},
   "outputs": [],
   "source": [
    "nx_of_graph1 = nx.nx_pydot.from_pydot(dotplus1)"
   ]
  },
  {
   "cell_type": "code",
   "execution_count": 32,
   "metadata": {},
   "outputs": [
    {
     "ename": "NameError",
     "evalue": "name 'labels' is not defined",
     "output_type": "error",
     "traceback": [
      "\u001b[0;31m---------------------------------------------------------------------------\u001b[0m",
      "\u001b[0;31mNameError\u001b[0m                                 Traceback (most recent call last)",
      "\u001b[1;32m/Users/samyakjhaveri/Desktop/Drive Folder/Research/Quantum Code Clone Detection Project/retain_labels.ipynb Cell 9'\u001b[0m in \u001b[0;36m<module>\u001b[0;34m\u001b[0m\n\u001b[0;32m----> <a href='vscode-notebook-cell:/Users/samyakjhaveri/Desktop/Drive%20Folder/Research/Quantum%20Code%20Clone%20Detection%20Project/retain_labels.ipynb#ch0000000?line=0'>1</a>\u001b[0m nx\u001b[39m.\u001b[39mdraw_networkx(nx_of_graph1, with_labels \u001b[39m=\u001b[39m \u001b[39mTrue\u001b[39;00m, labels \u001b[39m=\u001b[39m labels)\n",
      "\u001b[0;31mNameError\u001b[0m: name 'labels' is not defined"
     ]
    }
   ],
   "source": [
    "nx.draw_networkx(nx_of_graph1, with_labels = True, labels = labels)"
   ]
  },
  {
   "cell_type": "code",
   "execution_count": 33,
   "metadata": {},
   "outputs": [],
   "source": [
    "plt.show()"
   ]
  }
 ],
 "metadata": {
  "interpreter": {
   "hash": "b0fa6594d8f4cbf19f97940f81e996739fb7646882a419484c72d19e05852a7e"
  },
  "kernelspec": {
   "display_name": "Python 3.9.12 64-bit",
   "language": "python",
   "name": "python3"
  },
  "language_info": {
   "codemirror_mode": {
    "name": "ipython",
    "version": 3
   },
   "file_extension": ".py",
   "mimetype": "text/x-python",
   "name": "python",
   "nbconvert_exporter": "python",
   "pygments_lexer": "ipython3",
   "version": "3.10.8"
  },
  "orig_nbformat": 4
 },
 "nbformat": 4,
 "nbformat_minor": 2
}
